{
 "cells": [
  {
   "cell_type": "code",
   "execution_count": null,
   "metadata": {},
   "outputs": [],
   "source": [
    "from sentence_transformers import SentenceTransformer\n",
    "from sentence_transformers.util import cos_sim\n",
    "\n",
    "# https://huggingface.co/Salesforce/SFR-Embedding-Code-400M_R\n",
    "model = SentenceTransformer('Salesforce/SFR-Embedding-Code-400M_R', trust_remote_code=True)"
   ]
  },
  {
   "cell_type": "code",
   "execution_count": null,
   "metadata": {},
   "outputs": [],
   "source": [
    "sentences = [\n",
    "    \"how to convert temperature from celsius to fahrenheit?\",\n",
    "    \"def quick_sort(arr):\\n    if len(arr) <= 1:\\n        return arr\\n    pivot = arr[len(arr) // 2]\\n    left = [x for x in arr if x < pivot]\\n    middle = [x for x in arr if x == pivot]\\n    right = [x for x in arr if x > pivot]\\n    return quick_sort(left) + middle + quick_sort(right)\",\n",
    "    \"def bubble_sort(arr):\\n    n = len(arr)\\n    for i in range(n):\\n        for j in range(0, n-i-1):\\n            if arr[j] > arr[j+1]:\\n                arr[j], arr[j+1] = arr[j+1], arr[j]\\n    return arr\",\n",
    "    \"def temperature_c_to_f(c):\\n    return c * 9/5 + 32\",\n",
    "]\n",
    "\n",
    "embeddings = model.encode(sentences)\n",
    "similarities = cos_sim(embeddings[0], embeddings[1:])\n",
    "print(similarities)"
   ]
  },
  {
   "cell_type": "code",
   "execution_count": 8,
   "metadata": {},
   "outputs": [],
   "source": [
    "import random\n",
    "\n",
    "# Lists for constructing random sentences\n",
    "subjects = ['The programmer', 'A developer', 'The system', 'The computer', 'The algorithm', 'The database', 'The network', 'The user', 'The server', 'The application']\n",
    "verbs = ['processes', 'analyzes', 'computes', 'optimizes', 'debugs', 'implements', 'executes', 'maintains', 'updates', 'validates']\n",
    "objects = ['the code', 'the data', 'the function', 'the algorithm', 'the query', 'the cache', 'the request', 'the response', 'the buffer', 'the pipeline']\n",
    "adjectives = ['efficiently', 'quickly', 'carefully', 'automatically', 'periodically', 'continuously', 'systematically', 'recursively', 'asynchronously', 'securely']\n",
    "\n",
    "# Generate 1000 random sentences\n",
    "sentences = []\n",
    "for _ in range(10000):\n",
    "    sentence = f\"{random.choice(subjects)} {random.choice(verbs)} {random.choice(objects)} {random.choice(adjectives)}.\"\n",
    "    sentences.append(sentence)"
   ]
  },
  {
   "cell_type": "code",
   "execution_count": null,
   "metadata": {},
   "outputs": [],
   "source": [
    "embeddings = model.encode(sentences)\n",
    "similarities = cos_sim(embeddings[0], embeddings[1:])\n",
    "print(similarities)"
   ]
  },
  {
   "cell_type": "markdown",
   "metadata": {},
   "source": [
    "tensor([[0.7690, 0.6211, 0.7166,  ..., 0.5230, 0.7162, 0.5992]])"
   ]
  }
 ],
 "metadata": {
  "kernelspec": {
   "display_name": ".venv",
   "language": "python",
   "name": "python3"
  },
  "language_info": {
   "codemirror_mode": {
    "name": "ipython",
    "version": 3
   },
   "file_extension": ".py",
   "mimetype": "text/x-python",
   "name": "python",
   "nbconvert_exporter": "python",
   "pygments_lexer": "ipython3",
   "version": "3.13.2"
  }
 },
 "nbformat": 4,
 "nbformat_minor": 2
}
